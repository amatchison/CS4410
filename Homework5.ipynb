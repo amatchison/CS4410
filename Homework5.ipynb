{
  "nbformat": 4,
  "nbformat_minor": 0,
  "metadata": {
    "colab": {
      "provenance": [],
      "authorship_tag": "ABX9TyP2S3W895ZunXBvn9JeIN5R",
      "include_colab_link": true
    },
    "kernelspec": {
      "name": "python3",
      "display_name": "Python 3"
    },
    "language_info": {
      "name": "python"
    }
  },
  "cells": [
    {
      "cell_type": "markdown",
      "metadata": {
        "id": "view-in-github",
        "colab_type": "text"
      },
      "source": [
        "<a href=\"https://colab.research.google.com/github/amatchison/CS4410/blob/main/Homework5.ipynb\" target=\"_parent\"><img src=\"https://colab.research.google.com/assets/colab-badge.svg\" alt=\"Open In Colab\"/></a>"
      ]
    },
    {
      "cell_type": "code",
      "execution_count": 2,
      "metadata": {
        "id": "lSg4M43DX3V3"
      },
      "outputs": [],
      "source": [
        "from sklearn.cluster import KMeans\n",
        "from matplotlib import pyplot as plt\n",
        "from sklearn.datasets import load_iris"
      ]
    },
    {
      "cell_type": "code",
      "source": [
        "#load iris dataset\n",
        "iris = load_iris()\n",
        "\n",
        "#create list to hold wcss values\n",
        "wcss = []\n",
        "\n",
        "#test k values 1-10\n",
        "for k in range(1,11):\n",
        "  kmeans = KMeans(n_clusters=k, n_init=10)\n",
        "  kmeans.fit(iris.data)\n",
        "  wcss.append(kmeans.inertia_)\n",
        "\n",
        "#plot results\n",
        "fig = plt.figure(figsize=(10,5))\n",
        "plt.plot(range(1,11), wcss)\n",
        "plt.xlabel('Number of Clusters')\n",
        "plt.ylabel('WCSS')\n",
        "plt.show()\n"
      ],
      "metadata": {
        "colab": {
          "base_uri": "https://localhost:8080/",
          "height": 465
        },
        "id": "Oi2wiuEmaLhp",
        "outputId": "130b0b04-105a-4622-e817-48dfc1ab56c6"
      },
      "execution_count": 12,
      "outputs": [
        {
          "output_type": "display_data",
          "data": {
            "text/plain": [
              "<Figure size 1000x500 with 1 Axes>"
            ],
            "image/png": "[encoded data removed]"
          },
          "metadata": {}
        }
      ]
    },
    {
      "cell_type": "code",
      "source": [
        "from sklearn.datasets import fetch_openml"
      ],
      "metadata": {
        "id": "MCKDv77Udoms"
      },
      "execution_count": 13,
      "outputs": []
    },
    {
      "cell_type": "code",
      "source": [
        "mnist = fetch_openml('mnist_784', parser = 'auto')"
      ],
      "metadata": {
        "id": "CmOZm0-td1cT"
      },
      "execution_count": 15,
      "outputs": []
    },
    {
      "cell_type": "code",
      "source": [
        "from sklearn.linear_model import LogisticRegression\n",
        "from sklearn.model_selection import train_test_split\n",
        "from sklearn.metrics import accuracy_score\n",
        "from sklearn.decomposition import PCA\n",
        "import time"
      ],
      "metadata": {
        "id": "3zrxxVnieHZD"
      },
      "execution_count": 33,
      "outputs": []
    },
    {
      "cell_type": "code",
      "source": [
        "#split data into training and testing\n",
        "X_train, X_test, y_train, y_test = train_test_split(mnist.data, mnist.target)\n",
        "\n",
        "#apply logistic regression without PCA\n",
        "model = LogisticRegression(solver='lbfgs')\n",
        "\n",
        "start = time.time()\n",
        "model.fit (X_train, y_train)\n",
        "stop = time.time()\n",
        "\n",
        "#get the accuracy score and time\n",
        "y_pred = model.predict(X_test)\n",
        "score1 = accuracy_score(y_test, y_pred)\n",
        "time1 = (stop - start)\n"
      ],
      "metadata": {
        "colab": {
          "base_uri": "https://localhost:8080/"
        },
        "id": "t5j_Qn_qff0G",
        "outputId": "14430503-a480-4294-f0c3-767547e978bf"
      },
      "execution_count": 34,
      "outputs": [
        {
          "output_type": "stream",
          "name": "stderr",
          "text": [
            "/usr/local/lib/python3.10/dist-packages/sklearn/linear_model/_logistic.py:458: ConvergenceWarning: lbfgs failed to converge (status=1):\n",
            "STOP: TOTAL NO. of ITERATIONS REACHED LIMIT.\n",
            "\n",
            "Increase the number of iterations (max_iter) or scale the data as shown in:\n",
            "    https://scikit-learn.org/stable/modules/preprocessing.html\n",
            "Please also refer to the documentation for alternative solver options:\n",
            "    https://scikit-learn.org/stable/modules/linear_model.html#logistic-regression\n",
            "  n_iter_i = _check_optimize_result(\n"
          ]
        }
      ]
    },
    {
      "cell_type": "code",
      "source": [
        "#apply PCA\n",
        "pca = PCA(n_components=2, random_state=11)\n",
        "X_train_pca = pca.fit_transform(X_train)\n",
        "X_test_pca = pca.transform(X_test)\n",
        "\n",
        "#apply logistic regression with PCA\n",
        "start = time.time()\n",
        "model.fit (X_train_pca, y_train)\n",
        "stop = time.time()\n",
        "\n",
        "#get the accuracy score and time\n",
        "y_pred = model.predict(X_test_pca)\n",
        "score2 = accuracy_score(y_test, y_pred)\n",
        "time2 = (stop - start)\n"
      ],
      "metadata": {
        "colab": {
          "base_uri": "https://localhost:8080/"
        },
        "id": "n3J0Jj0nkyOH",
        "outputId": "712920fb-4a74-4df2-bb19-09fe66352f6d"
      },
      "execution_count": 35,
      "outputs": [
        {
          "output_type": "stream",
          "name": "stderr",
          "text": [
            "/usr/local/lib/python3.10/dist-packages/sklearn/linear_model/_logistic.py:458: ConvergenceWarning: lbfgs failed to converge (status=1):\n",
            "STOP: TOTAL NO. of ITERATIONS REACHED LIMIT.\n",
            "\n",
            "Increase the number of iterations (max_iter) or scale the data as shown in:\n",
            "    https://scikit-learn.org/stable/modules/preprocessing.html\n",
            "Please also refer to the documentation for alternative solver options:\n",
            "    https://scikit-learn.org/stable/modules/linear_model.html#logistic-regression\n",
            "  n_iter_i = _check_optimize_result(\n"
          ]
        }
      ]
    },
    {
      "cell_type": "code",
      "source": [
        "#Compare time and accuracy with PCA and without PCA.\n",
        "print(f'Accuracy Without PCA: {score1:.2%}')\n",
        "print(f'Accuracy With PCA: {score2:.2%}')\n",
        "print()\n",
        "print(f'Training Time Without PCA: {time1:.2f} seconds')\n",
        "print(f'Training Time With PCA: {time2:.2f} seconds')"
      ],
      "metadata": {
        "colab": {
          "base_uri": "https://localhost:8080/"
        },
        "id": "f0GpKegcoPbt",
        "outputId": "a3ef7b0a-5752-435d-f901-c00a7819c367"
      },
      "execution_count": 40,
      "outputs": [
        {
          "output_type": "stream",
          "name": "stdout",
          "text": [
            "Accuracy Without PCA: 92.09%\n",
            "Accuracy With PCA: 42.86%\n",
            "\n",
            "Training Time Without PCA: 33.54 seconds\n",
            "Training Time With PCA: 2.31 seconds\n"
          ]
        }
      ]
    }
  ]
}