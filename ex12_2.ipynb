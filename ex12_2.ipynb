{
  "nbformat": 4,
  "nbformat_minor": 0,
  "metadata": {
    "colab": {
      "provenance": [],
      "authorship_tag": "ABX9TyMwUkZ0dn2TzuGq/a59EL7V",
      "include_colab_link": true
    },
    "kernelspec": {
      "name": "python3",
      "display_name": "Python 3"
    },
    "language_info": {
      "name": "python"
    }
  },
  "cells": [
    {
      "cell_type": "markdown",
      "metadata": {
        "id": "view-in-github",
        "colab_type": "text"
      },
      "source": [
        "<a href=\"https://colab.research.google.com/github/amatchison/CS4410/blob/main/ex12_2.ipynb\" target=\"_parent\"><img src=\"https://colab.research.google.com/assets/colab-badge.svg\" alt=\"Open In Colab\"/></a>"
      ]
    },
    {
      "cell_type": "code",
      "source": [
        "# EX 12.1\n",
        "import requests\n",
        "response = requests.get('https://www.python.org')\n",
        "from bs4 import BeautifulSoup\n",
        "soup = BeautifulSoup(response.content, 'html.parser')\n",
        "text = soup.get_text(strip=True)"
      ],
      "metadata": {
        "id": "0dxPViqg71T1"
      },
      "execution_count": 16,
      "outputs": []
    },
    {
      "cell_type": "code",
      "execution_count": 22,
      "metadata": {
        "colab": {
          "base_uri": "https://localhost:8080/"
        },
        "id": "Mh8678xS7bF-",
        "outputId": "b479eed0-97a9-40ff-ace4-cbe03dbae8ee"
      },
      "outputs": [
        {
          "output_type": "stream",
          "name": "stderr",
          "text": [
            "[nltk_data] Downloading package punkt to /root/nltk_data...\n",
            "[nltk_data]   Package punkt is already up-to-date!\n",
            "[nltk_data] Downloading package brown to /root/nltk_data...\n",
            "[nltk_data]   Package brown is already up-to-date!\n"
          ]
        }
      ],
      "source": [
        "#EX 12.2\n",
        "from textblob import TextBlob\n",
        "import nltk\n",
        "nltk.download('punkt')\n",
        "nltk.download('brown')\n",
        "\n",
        "blob = TextBlob(text)\n",
        "sentences = blob.sentences\n",
        "words = blob.words\n",
        "phrases = blob.noun_phrases"
      ]
    }
  ]
}