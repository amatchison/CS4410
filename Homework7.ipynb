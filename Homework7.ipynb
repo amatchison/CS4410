{
  "nbformat": 4,
  "nbformat_minor": 0,
  "metadata": {
    "colab": {
      "provenance": [],
      "authorship_tag": "ABX9TyOOlfzGwyi9DVlF8LGQzrYJ",
      "include_colab_link": true
    },
    "kernelspec": {
      "name": "python3",
      "display_name": "Python 3"
    },
    "language_info": {
      "name": "python"
    }
  },
  "cells": [
    {
      "cell_type": "markdown",
      "metadata": {
        "id": "view-in-github",
        "colab_type": "text"
      },
      "source": [
        "<a href=\"https://colab.research.google.com/github/amatchison/CS4410/blob/main/Homework7.ipynb\" target=\"_parent\"><img src=\"https://colab.research.google.com/assets/colab-badge.svg\" alt=\"Open In Colab\"/></a>"
      ]
    },
    {
      "cell_type": "code",
      "execution_count": 73,
      "metadata": {
        "id": "RvuFKDtCH_0D"
      },
      "outputs": [],
      "source": [
        "from tensorflow.keras.datasets import fashion_mnist\n",
        "from tensorflow.keras.datasets import mnist\n",
        "from tensorflow.keras.utils import to_categorical\n",
        "from tensorflow.keras.models import Sequential\n",
        "from tensorflow.keras.layers import Conv2D, Dense, Flatten, MaxPooling2D"
      ]
    },
    {
      "cell_type": "code",
      "source": [
        "#create neural network\n",
        "cnn = Sequential()"
      ],
      "metadata": {
        "id": "ZVhh_IZVPEWi"
      },
      "execution_count": 66,
      "outputs": []
    },
    {
      "cell_type": "code",
      "source": [
        "#add layers\n",
        "cnn.add(Conv2D(filters=64, kernel_size=(3, 3), activation='relu', input_shape=(28, 28, 1)))\n",
        "cnn.add(MaxPooling2D(pool_size=(2, 2)))\n",
        "\n",
        "cnn.add(Conv2D(filters=128, kernel_size=(3, 3), activation='relu', input_shape=(28, 28, 1)))\n",
        "cnn.add(MaxPooling2D(pool_size=(2, 2)))\n",
        "\n",
        "cnn.add(Flatten())\n",
        "\n",
        "cnn.add(Dense(units=128, activation='relu'))\n",
        "cnn.add(Dense(units=10, activation='softmax'))"
      ],
      "metadata": {
        "id": "mpIGldGCPt9K"
      },
      "execution_count": 67,
      "outputs": []
    },
    {
      "cell_type": "code",
      "source": [
        "#compile model\n",
        "cnn.compile(optimizer='adam', loss='categorical_crossentropy', metrics=['accuracy'])"
      ],
      "metadata": {
        "id": "ukmkoZeDR_10"
      },
      "execution_count": 68,
      "outputs": []
    },
    {
      "cell_type": "code",
      "source": [
        "#load fasion_mnist\n",
        "(X_train, y_train), (X_test, y_test) = fashion_mnist.load_data()\n",
        "\n",
        "#reshape data\n",
        "X_train = X_train.reshape((60000, 28, 28, 1))\n",
        "X_test = X_test.reshape((10000, 28, 28, 1))\n",
        "\n",
        "#normalize\n",
        "X_train = X_train.astype('float32') / 255\n",
        "X_test = X_test.astype('float32') / 255\n",
        "\n",
        "#one-hot encoding\n",
        "y_train = to_categorical(y_train)\n",
        "y_test = to_categorical(y_test)"
      ],
      "metadata": {
        "id": "2MZdNPubMTsL"
      },
      "execution_count": 69,
      "outputs": []
    },
    {
      "cell_type": "code",
      "source": [
        "#train model\n",
        "cnn.fit(X_train, y_train, epochs=5, batch_size=64, validation_split=0.1)"
      ],
      "metadata": {
        "colab": {
          "base_uri": "https://localhost:8080/"
        },
        "id": "gQX01320Skei",
        "outputId": "1dd5566c-0631-4125-e6c2-efdb29096122"
      },
      "execution_count": 70,
      "outputs": [
        {
          "output_type": "stream",
          "name": "stdout",
          "text": [
            "Epoch 1/5\n",
            "844/844 [==============================] - 109s 128ms/step - loss: 0.4646 - accuracy: 0.8338 - val_loss: 0.3271 - val_accuracy: 0.8835\n",
            "Epoch 2/5\n",
            "844/844 [==============================] - 106s 126ms/step - loss: 0.3020 - accuracy: 0.8908 - val_loss: 0.2934 - val_accuracy: 0.8915\n",
            "Epoch 3/5\n",
            "844/844 [==============================] - 109s 129ms/step - loss: 0.2551 - accuracy: 0.9064 - val_loss: 0.2597 - val_accuracy: 0.9042\n",
            "Epoch 4/5\n",
            "844/844 [==============================] - 109s 129ms/step - loss: 0.2222 - accuracy: 0.9179 - val_loss: 0.2576 - val_accuracy: 0.9027\n",
            "Epoch 5/5\n",
            "844/844 [==============================] - 109s 129ms/step - loss: 0.1947 - accuracy: 0.9269 - val_loss: 0.2509 - val_accuracy: 0.9070\n"
          ]
        },
        {
          "output_type": "execute_result",
          "data": {
            "text/plain": [
              "<keras.src.callbacks.History at 0x7bdcdc3b72e0>"
            ]
          },
          "metadata": {},
          "execution_count": 70
        }
      ]
    },
    {
      "cell_type": "code",
      "source": [
        "#evaluate model\n",
        "loss, accuracy = cnn.evaluate(X_test, y_test)"
      ],
      "metadata": {
        "colab": {
          "base_uri": "https://localhost:8080/"
        },
        "id": "t-2y3eRcbsJ-",
        "outputId": "f49679aa-0440-45f6-afb0-d4b541eb1c39"
      },
      "execution_count": 71,
      "outputs": [
        {
          "output_type": "stream",
          "name": "stdout",
          "text": [
            "313/313 [==============================] - 7s 21ms/step - loss: 0.2693 - accuracy: 0.9017\n"
          ]
        }
      ]
    },
    {
      "cell_type": "code",
      "source": [
        "#load mnist\n",
        "(X_train, y_train), (X_test, y_test) = mnist.load_data()\n",
        "\n",
        "#reshape data\n",
        "X_train = X_train.reshape((60000, 28, 28, 1))\n",
        "X_test = X_test.reshape((10000, 28, 28, 1))\n",
        "\n",
        "#normalize\n",
        "X_train = X_train.astype('float32') / 255\n",
        "X_test = X_test.astype('float32') / 255\n",
        "\n",
        "#one-hot encoding\n",
        "y_train = to_categorical(y_train)\n",
        "y_test = to_categorical(y_test)"
      ],
      "metadata": {
        "colab": {
          "base_uri": "https://localhost:8080/"
        },
        "id": "a3Tp3oq3WIuV",
        "outputId": "7ecf7f49-2041-46d5-c0b9-f6c2bd6caf2f"
      },
      "execution_count": 72,
      "outputs": [
        {
          "output_type": "stream",
          "name": "stdout",
          "text": [
            "Downloading data from https://storage.googleapis.com/tensorflow/tf-keras-datasets/mnist.npz\n",
            "11490434/11490434 [==============================] - 0s 0us/step\n"
          ]
        }
      ]
    },
    {
      "cell_type": "code",
      "source": [
        "#train model\n",
        "cnn.fit(X_train, y_train, epochs=5, batch_size=64, validation_split=0.1)"
      ],
      "metadata": {
        "colab": {
          "base_uri": "https://localhost:8080/"
        },
        "id": "a4HoD55cWnI5",
        "outputId": "5f2a9175-c454-4521-e2e4-c45c8882d76c"
      },
      "execution_count": 63,
      "outputs": [
        {
          "output_type": "stream",
          "name": "stdout",
          "text": [
            "Epoch 1/5\n",
            "844/844 [==============================] - 107s 127ms/step - loss: 0.1730 - accuracy: 0.9358 - val_loss: 0.2548 - val_accuracy: 0.9088\n",
            "Epoch 2/5\n",
            "844/844 [==============================] - 107s 127ms/step - loss: 0.1513 - accuracy: 0.9445 - val_loss: 0.2264 - val_accuracy: 0.9182\n",
            "Epoch 3/5\n",
            "844/844 [==============================] - 109s 130ms/step - loss: 0.1293 - accuracy: 0.9509 - val_loss: 0.2391 - val_accuracy: 0.9170\n",
            "Epoch 4/5\n",
            "844/844 [==============================] - 106s 125ms/step - loss: 0.1098 - accuracy: 0.9596 - val_loss: 0.2716 - val_accuracy: 0.9143\n",
            "Epoch 5/5\n",
            "844/844 [==============================] - 107s 126ms/step - loss: 0.0966 - accuracy: 0.9632 - val_loss: 0.2575 - val_accuracy: 0.9172\n"
          ]
        },
        {
          "output_type": "execute_result",
          "data": {
            "text/plain": [
              "<keras.src.callbacks.History at 0x7bdce16ed9f0>"
            ]
          },
          "metadata": {},
          "execution_count": 63
        }
      ]
    },
    {
      "cell_type": "code",
      "source": [
        "#evaluate model\n",
        "loss, accuracy = cnn.evaluate(X_test, y_test)"
      ],
      "metadata": {
        "colab": {
          "base_uri": "https://localhost:8080/"
        },
        "id": "4mwDneeJZBxj",
        "outputId": "5e32fba4-7f4a-4c26-e4a6-092351669bda"
      },
      "execution_count": 65,
      "outputs": [
        {
          "output_type": "stream",
          "name": "stdout",
          "text": [
            "313/313 [==============================] - 5s 18ms/step - loss: 0.2923 - accuracy: 0.9129\n"
          ]
        }
      ]
    },
    {
      "cell_type": "markdown",
      "source": [
        "\n",
        "\n",
        "---\n",
        "\n",
        "\n",
        "# How well does the model perform on Fashion-MNIST compared to MNIST?\n",
        "The model performs similarly on both data sets. Fashion-MNIST had a loss of 0.27 and an accuracy of 0.90. MNIST had 0.29 loss and 0.91 accuracy.\n",
        "\n",
        "\n",
        "# How do the training times compare?\n",
        "Both had similar training times of around 110s per epoch."
      ],
      "metadata": {
        "id": "HJdZ-sambwy4"
      }
    }
  ]
}