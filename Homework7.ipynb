{
  "nbformat": 4,
  "nbformat_minor": 0,
  "metadata": {
    "colab": {
      "provenance": [],
      "authorship_tag": "ABX9TyPBac9jKJtLyabnnY5eNVtK",
      "include_colab_link": true
    },
    "kernelspec": {
      "name": "python3",
      "display_name": "Python 3"
    },
    "language_info": {
      "name": "python"
    }
  },
  "cells": [
    {
      "cell_type": "markdown",
      "metadata": {
        "id": "view-in-github",
        "colab_type": "text"
      },
      "source": [
        "<a href=\"https://colab.research.google.com/github/amatchison/CS4410/blob/main/Homework7.ipynb\" target=\"_parent\"><img src=\"https://colab.research.google.com/assets/colab-badge.svg\" alt=\"Open In Colab\"/></a>"
      ]
    },
    {
      "cell_type": "code",
      "execution_count": 73,
      "metadata": {
        "id": "RvuFKDtCH_0D"
      },
      "outputs": [],
      "source": [
        "from tensorflow.keras.datasets import fashion_mnist\n",
        "from tensorflow.keras.datasets import mnist\n",
        "from tensorflow.keras.utils import to_categorical\n",
        "from tensorflow.keras.models import Sequential\n",
        "from tensorflow.keras.layers import Conv2D, Dense, Flatten, MaxPooling2D"
      ]
    },
    {
      "cell_type": "markdown",
      "source": [
        "# **Exercise 16.1**"
      ],
      "metadata": {
        "id": "6WFnT_xQkNr6"
      }
    },
    {
      "cell_type": "code",
      "source": [
        "#create neural network\n",
        "cnn = Sequential()"
      ],
      "metadata": {
        "id": "ZVhh_IZVPEWi"
      },
      "execution_count": 66,
      "outputs": []
    },
    {
      "cell_type": "code",
      "source": [
        "#add layers\n",
        "cnn.add(Conv2D(filters=64, kernel_size=(3, 3), activation='relu', input_shape=(28, 28, 1)))\n",
        "cnn.add(MaxPooling2D(pool_size=(2, 2)))\n",
        "\n",
        "cnn.add(Conv2D(filters=128, kernel_size=(3, 3), activation='relu', input_shape=(28, 28, 1)))\n",
        "cnn.add(MaxPooling2D(pool_size=(2, 2)))\n",
        "\n",
        "cnn.add(Flatten())\n",
        "\n",
        "cnn.add(Dense(units=128, activation='relu'))\n",
        "cnn.add(Dense(units=10, activation='softmax'))"
      ],
      "metadata": {
        "id": "mpIGldGCPt9K"
      },
      "execution_count": 67,
      "outputs": []
    },
    {
      "cell_type": "code",
      "source": [
        "#compile model\n",
        "cnn.compile(optimizer='adam', loss='categorical_crossentropy', metrics=['accuracy'])"
      ],
      "metadata": {
        "id": "ukmkoZeDR_10"
      },
      "execution_count": 68,
      "outputs": []
    },
    {
      "cell_type": "code",
      "source": [
        "#load fasion_mnist\n",
        "(X_train, y_train), (X_test, y_test) = fashion_mnist.load_data()\n",
        "\n",
        "#reshape data\n",
        "X_train = X_train.reshape((60000, 28, 28, 1))\n",
        "X_test = X_test.reshape((10000, 28, 28, 1))\n",
        "\n",
        "#normalize\n",
        "X_train = X_train.astype('float32') / 255\n",
        "X_test = X_test.astype('float32') / 255\n",
        "\n",
        "#one-hot encoding\n",
        "y_train = to_categorical(y_train)\n",
        "y_test = to_categorical(y_test)"
      ],
      "metadata": {
        "id": "2MZdNPubMTsL"
      },
      "execution_count": 69,
      "outputs": []
    },
    {
      "cell_type": "code",
      "source": [
        "#train model\n",
        "cnn.fit(X_train, y_train, epochs=5, batch_size=64, validation_split=0.1)"
      ],
      "metadata": {
        "colab": {
          "base_uri": "https://localhost:8080/"
        },
        "id": "gQX01320Skei",
        "outputId": "1dd5566c-0631-4125-e6c2-efdb29096122"
      },
      "execution_count": 70,
      "outputs": [
        {
          "output_type": "stream",
          "name": "stdout",
          "text": [
            "Epoch 1/5\n",
            "844/844 [==============================] - 109s 128ms/step - loss: 0.4646 - accuracy: 0.8338 - val_loss: 0.3271 - val_accuracy: 0.8835\n",
            "Epoch 2/5\n",
            "844/844 [==============================] - 106s 126ms/step - loss: 0.3020 - accuracy: 0.8908 - val_loss: 0.2934 - val_accuracy: 0.8915\n",
            "Epoch 3/5\n",
            "844/844 [==============================] - 109s 129ms/step - loss: 0.2551 - accuracy: 0.9064 - val_loss: 0.2597 - val_accuracy: 0.9042\n",
            "Epoch 4/5\n",
            "844/844 [==============================] - 109s 129ms/step - loss: 0.2222 - accuracy: 0.9179 - val_loss: 0.2576 - val_accuracy: 0.9027\n",
            "Epoch 5/5\n",
            "844/844 [==============================] - 109s 129ms/step - loss: 0.1947 - accuracy: 0.9269 - val_loss: 0.2509 - val_accuracy: 0.9070\n"
          ]
        },
        {
          "output_type": "execute_result",
          "data": {
            "text/plain": [
              "<keras.src.callbacks.History at 0x7bdcdc3b72e0>"
            ]
          },
          "metadata": {},
          "execution_count": 70
        }
      ]
    },
    {
      "cell_type": "code",
      "source": [
        "#evaluate model\n",
        "loss, accuracy = cnn.evaluate(X_test, y_test)"
      ],
      "metadata": {
        "colab": {
          "base_uri": "https://localhost:8080/"
        },
        "id": "t-2y3eRcbsJ-",
        "outputId": "f49679aa-0440-45f6-afb0-d4b541eb1c39"
      },
      "execution_count": 71,
      "outputs": [
        {
          "output_type": "stream",
          "name": "stdout",
          "text": [
            "313/313 [==============================] - 7s 21ms/step - loss: 0.2693 - accuracy: 0.9017\n"
          ]
        }
      ]
    },
    {
      "cell_type": "code",
      "source": [
        "#load mnist\n",
        "(X_train, y_train), (X_test, y_test) = mnist.load_data()\n",
        "\n",
        "#reshape data\n",
        "X_train = X_train.reshape((60000, 28, 28, 1))\n",
        "X_test = X_test.reshape((10000, 28, 28, 1))\n",
        "\n",
        "#normalize\n",
        "X_train = X_train.astype('float32') / 255\n",
        "X_test = X_test.astype('float32') / 255\n",
        "\n",
        "#one-hot encoding\n",
        "y_train = to_categorical(y_train)\n",
        "y_test = to_categorical(y_test)"
      ],
      "metadata": {
        "colab": {
          "base_uri": "https://localhost:8080/"
        },
        "id": "a3Tp3oq3WIuV",
        "outputId": "7ecf7f49-2041-46d5-c0b9-f6c2bd6caf2f"
      },
      "execution_count": 72,
      "outputs": [
        {
          "output_type": "stream",
          "name": "stdout",
          "text": [
            "Downloading data from https://storage.googleapis.com/tensorflow/tf-keras-datasets/mnist.npz\n",
            "11490434/11490434 [==============================] - 0s 0us/step\n"
          ]
        }
      ]
    },
    {
      "cell_type": "code",
      "source": [
        "#train model\n",
        "cnn.fit(X_train, y_train, epochs=5, batch_size=64, validation_split=0.1)"
      ],
      "metadata": {
        "colab": {
          "base_uri": "https://localhost:8080/"
        },
        "id": "a4HoD55cWnI5",
        "outputId": "7fcd3dad-2a3c-4910-c7fb-4f3d5c18e6e9"
      },
      "execution_count": 74,
      "outputs": [
        {
          "output_type": "stream",
          "name": "stdout",
          "text": [
            "Epoch 1/5\n",
            "844/844 [==============================] - 104s 123ms/step - loss: 0.1241 - accuracy: 0.9647 - val_loss: 0.0373 - val_accuracy: 0.9897\n",
            "Epoch 2/5\n",
            "844/844 [==============================] - 105s 124ms/step - loss: 0.0329 - accuracy: 0.9902 - val_loss: 0.0353 - val_accuracy: 0.9900\n",
            "Epoch 3/5\n",
            "844/844 [==============================] - 105s 124ms/step - loss: 0.0207 - accuracy: 0.9933 - val_loss: 0.0363 - val_accuracy: 0.9908\n",
            "Epoch 4/5\n",
            "844/844 [==============================] - 105s 124ms/step - loss: 0.0156 - accuracy: 0.9951 - val_loss: 0.0383 - val_accuracy: 0.9907\n",
            "Epoch 5/5\n",
            "844/844 [==============================] - 104s 123ms/step - loss: 0.0109 - accuracy: 0.9964 - val_loss: 0.0364 - val_accuracy: 0.9905\n"
          ]
        },
        {
          "output_type": "execute_result",
          "data": {
            "text/plain": [
              "<keras.src.callbacks.History at 0x7bdce1cf0340>"
            ]
          },
          "metadata": {},
          "execution_count": 74
        }
      ]
    },
    {
      "cell_type": "code",
      "source": [
        "#evaluate model\n",
        "loss, accuracy = cnn.evaluate(X_test, y_test)"
      ],
      "metadata": {
        "colab": {
          "base_uri": "https://localhost:8080/"
        },
        "id": "4mwDneeJZBxj",
        "outputId": "30a18a6c-4098-49dd-a646-369b31201fe7"
      },
      "execution_count": 75,
      "outputs": [
        {
          "output_type": "stream",
          "name": "stdout",
          "text": [
            "313/313 [==============================] - 7s 21ms/step - loss: 0.0332 - accuracy: 0.9916\n"
          ]
        }
      ]
    },
    {
      "cell_type": "markdown",
      "source": [
        "\n",
        "\n",
        "---\n",
        "\n",
        "\n",
        "# How well does the model perform on Fashion-MNIST compared to MNIST?\n",
        "The model performs slightly better on MNIST than on Fashion-MNIST.\n",
        "\n",
        "Fashion-MNIST had a loss of 0.27 and an accuracy of 0.90. MNIST had 0.03 loss and 0.99 accuracy.\n",
        "\n",
        "\n",
        "# How do the training times compare?\n",
        "Both had similar training times of around 105 - 110s per epoch."
      ],
      "metadata": {
        "id": "HJdZ-sambwy4"
      }
    },
    {
      "cell_type": "markdown",
      "source": [
        "# **Exercise 16.4**"
      ],
      "metadata": {
        "id": "KLoCTKp3kEEe"
      }
    },
    {
      "cell_type": "code",
      "source": [
        "#create neural network 2\n",
        "cnn2 = Sequential()\n",
        "\n",
        "#add layers\n",
        "cnn2.add(Conv2D(filters=64, kernel_size=(3, 3), activation='relu', input_shape=(28, 28, 1)))\n",
        "cnn2.add(MaxPooling2D(pool_size=(2, 2)))\n",
        "\n",
        "cnn2.add(Conv2D(filters=128, kernel_size=(3, 3), activation='relu', input_shape=(28, 28, 1)))\n",
        "cnn2.add(MaxPooling2D(pool_size=(2, 2)))\n",
        "\n",
        "cnn2.add(Flatten())\n",
        "#REMOVED 1ST DENSE LAYER HERE\n",
        "cnn2.add(Dense(units=10, activation='softmax'))"
      ],
      "metadata": {
        "id": "MutzLTOXkBje"
      },
      "execution_count": 76,
      "outputs": []
    },
    {
      "cell_type": "code",
      "source": [
        "#compile model\n",
        "cnn2.compile(optimizer='adam', loss='categorical_crossentropy', metrics=['accuracy'])"
      ],
      "metadata": {
        "id": "vSQVFMJCldeK"
      },
      "execution_count": 77,
      "outputs": []
    },
    {
      "cell_type": "code",
      "source": [
        "#train model\n",
        "cnn2.fit(X_train, y_train, epochs=5, batch_size=64, validation_split=0.1)"
      ],
      "metadata": {
        "colab": {
          "base_uri": "https://localhost:8080/"
        },
        "id": "OfSrqMvAkxAM",
        "outputId": "5c335c28-86dd-4338-e973-103d9f56ace4"
      },
      "execution_count": 78,
      "outputs": [
        {
          "output_type": "stream",
          "name": "stdout",
          "text": [
            "Epoch 1/5\n",
            "844/844 [==============================] - 107s 126ms/step - loss: 0.1708 - accuracy: 0.9487 - val_loss: 0.0502 - val_accuracy: 0.9867\n",
            "Epoch 2/5\n",
            "844/844 [==============================] - 105s 125ms/step - loss: 0.0507 - accuracy: 0.9843 - val_loss: 0.0388 - val_accuracy: 0.9890\n",
            "Epoch 3/5\n",
            "844/844 [==============================] - 103s 122ms/step - loss: 0.0353 - accuracy: 0.9888 - val_loss: 0.0392 - val_accuracy: 0.9898\n",
            "Epoch 4/5\n",
            "844/844 [==============================] - 103s 122ms/step - loss: 0.0279 - accuracy: 0.9909 - val_loss: 0.0313 - val_accuracy: 0.9907\n",
            "Epoch 5/5\n",
            "844/844 [==============================] - 105s 125ms/step - loss: 0.0211 - accuracy: 0.9930 - val_loss: 0.0345 - val_accuracy: 0.9902\n"
          ]
        },
        {
          "output_type": "execute_result",
          "data": {
            "text/plain": [
              "<keras.src.callbacks.History at 0x7bdce1afa380>"
            ]
          },
          "metadata": {},
          "execution_count": 78
        }
      ]
    },
    {
      "cell_type": "code",
      "source": [
        "#evaluate model\n",
        "loss, accuracy = cnn2.evaluate(X_test, y_test)"
      ],
      "metadata": {
        "colab": {
          "base_uri": "https://localhost:8080/"
        },
        "id": "3SMjX6s5lccj",
        "outputId": "9171cd26-4461-4a3b-bfa0-0501a7a7c072"
      },
      "execution_count": 80,
      "outputs": [
        {
          "output_type": "stream",
          "name": "stdout",
          "text": [
            "313/313 [==============================] - 5s 17ms/step - loss: 0.0330 - accuracy: 0.9890\n"
          ]
        }
      ]
    },
    {
      "cell_type": "markdown",
      "source": [
        "# How does this change prediction accuracy?\n",
        "\n",
        "Prediction accuracy was nearly unchanged, dropping from 0.99 to 0.98\n",
        "\n",
        "Speed shows no noteworthy difference, remaining around 105s per epoch."
      ],
      "metadata": {
        "id": "dJjRnGfEwdVT"
      }
    },
    {
      "cell_type": "code",
      "source": [
        "#create neural network 3\n",
        "cnn3 = Sequential()\n",
        "\n",
        "#add layers\n",
        "cnn3.add(Conv2D(filters=64, kernel_size=(3, 3), activation='relu', input_shape=(28, 28, 1)))\n",
        "cnn3.add(MaxPooling2D(pool_size=(2, 2)))\n",
        "\n",
        "cnn3.add(Conv2D(filters=128, kernel_size=(3, 3), activation='relu', input_shape=(28, 28, 1)))\n",
        "cnn3.add(MaxPooling2D(pool_size=(2, 2)))\n",
        "\n",
        "cnn3.add(Flatten())\n",
        "cnn3.add(Dense(units=4096, activation='relu'))\n",
        "cnn3.add(Dense(units=128, activation='relu'))\n",
        "cnn3.add(Dense(units=10, activation='softmax'))"
      ],
      "metadata": {
        "id": "90rA0fa9oCZ8"
      },
      "execution_count": 81,
      "outputs": []
    },
    {
      "cell_type": "code",
      "source": [
        "#compile model\n",
        "cnn3.compile(optimizer='adam', loss='categorical_crossentropy', metrics=['accuracy'])"
      ],
      "metadata": {
        "id": "3r-4oZF_oXGM"
      },
      "execution_count": 82,
      "outputs": []
    },
    {
      "cell_type": "code",
      "source": [
        "#train model\n",
        "cnn3.fit(X_train, y_train, epochs=5, batch_size=64, validation_split=0.1)"
      ],
      "metadata": {
        "colab": {
          "base_uri": "https://localhost:8080/"
        },
        "id": "NQGmL66goZ1E",
        "outputId": "e6be3518-08ac-4064-e235-7fe73d6125e0"
      },
      "execution_count": 83,
      "outputs": [
        {
          "output_type": "stream",
          "name": "stdout",
          "text": [
            "Epoch 1/5\n",
            "844/844 [==============================] - 371s 438ms/step - loss: 0.1254 - accuracy: 0.9614 - val_loss: 0.0541 - val_accuracy: 0.9838\n",
            "Epoch 2/5\n",
            "844/844 [==============================] - 389s 461ms/step - loss: 0.0402 - accuracy: 0.9873 - val_loss: 0.0388 - val_accuracy: 0.9882\n",
            "Epoch 3/5\n",
            "844/844 [==============================] - 381s 452ms/step - loss: 0.0272 - accuracy: 0.9915 - val_loss: 0.0338 - val_accuracy: 0.9900\n",
            "Epoch 4/5\n",
            "844/844 [==============================] - 392s 465ms/step - loss: 0.0180 - accuracy: 0.9941 - val_loss: 0.0359 - val_accuracy: 0.9905\n",
            "Epoch 5/5\n",
            "844/844 [==============================] - 400s 474ms/step - loss: 0.0167 - accuracy: 0.9948 - val_loss: 0.0372 - val_accuracy: 0.9908\n"
          ]
        },
        {
          "output_type": "execute_result",
          "data": {
            "text/plain": [
              "<keras.src.callbacks.History at 0x7bdce17cdf00>"
            ]
          },
          "metadata": {},
          "execution_count": 83
        }
      ]
    },
    {
      "cell_type": "code",
      "source": [
        "#evaluate model\n",
        "loss, accuracy = cnn3.evaluate(X_test, y_test)"
      ],
      "metadata": {
        "colab": {
          "base_uri": "https://localhost:8080/"
        },
        "id": "_OdB1K34oc3K",
        "outputId": "7caa8975-909a-45d8-e17b-ed28c3a5a23b"
      },
      "execution_count": 84,
      "outputs": [
        {
          "output_type": "stream",
          "name": "stdout",
          "text": [
            "313/313 [==============================] - 15s 47ms/step - loss: 0.0363 - accuracy: 0.9895\n"
          ]
        }
      ]
    },
    {
      "cell_type": "markdown",
      "source": [
        "# How does this change prediction accuracy?\n",
        "\n",
        "Prediction accuracy was nearly unchanged again, dropping from 0.99 to 0.989.\n",
        "\n",
        "For some reason, speed dropped drastically, taking nearly 4 times longer to train."
      ],
      "metadata": {
        "id": "q09af-q8wEQh"
      }
    }
  ]
}